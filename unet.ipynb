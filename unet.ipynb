{
  "nbformat": 4,
  "nbformat_minor": 0,
  "metadata": {
    "colab": {
      "name": "segment_small.ipynb",
      "version": "0.3.2",
      "provenance": [],
      "collapsed_sections": []
    },
    "kernelspec": {
      "name": "python3",
      "display_name": "Python 3"
    },
    "accelerator": "GPU"
  },
  "cells": [
    {
      "cell_type": "code",
      "metadata": {
        "id": "ZuH825qGUcxK",
        "colab_type": "code",
        "outputId": "36980ffb-8e86-4098-fff5-573e2946b6c6",
        "colab": {
          "base_uri": "https://localhost:8080/",
          "height": 122
        }
      },
      "source": [
        "from google.colab import drive\n",
        "drive.mount('/content/drive')"
      ],
      "execution_count": 1,
      "outputs": [
        {
          "output_type": "stream",
          "text": [
            "Go to this URL in a browser: https://accounts.google.com/o/oauth2/auth?client_id=947318989803-6bn6qk8qdgf4n4g3pfee6491hc0brc4i.apps.googleusercontent.com&redirect_uri=urn%3Aietf%3Awg%3Aoauth%3A2.0%3Aoob&scope=email%20https%3A%2F%2Fwww.googleapis.com%2Fauth%2Fdocs.test%20https%3A%2F%2Fwww.googleapis.com%2Fauth%2Fdrive%20https%3A%2F%2Fwww.googleapis.com%2Fauth%2Fdrive.photos.readonly%20https%3A%2F%2Fwww.googleapis.com%2Fauth%2Fpeopleapi.readonly&response_type=code\n",
            "\n",
            "Enter your authorization code:\n",
            "··········\n",
            "Mounted at /content/drive\n"
          ],
          "name": "stdout"
        }
      ]
    },
    {
      "cell_type": "code",
      "metadata": {
        "id": "FwaE2vMiUW9u",
        "colab_type": "code",
        "colab": {}
      },
      "source": [
        "#%matplotlib inline\n",
        "import numpy as np\n",
        "import pandas as pd\n",
        "\n",
        "import sys\n",
        "\n",
        "from skimage.io import imread\n",
        "from matplotlib import pyplot as plt\n",
        "import random\n",
        "\n",
        "import keras\n",
        "from keras import models\n",
        "from keras.optimizers import SGD\n",
        "from keras import models\n",
        "from keras.layers import Input\n",
        "from keras.layers.core import Activation, Reshape, Permute\n",
        "from keras.layers.convolutional import Convolution2D, MaxPooling2D, UpSampling2D\n",
        "from keras.layers.normalization import BatchNormalization\n",
        "import os,cv2"
      ],
      "execution_count": 0,
      "outputs": []
    },
    {
      "cell_type": "markdown",
      "metadata": {
        "id": "OD5mZ1j4Ynat",
        "colab_type": "text"
      },
      "source": [
        "# Load the data"
      ]
    },
    {
      "cell_type": "code",
      "metadata": {
        "id": "7uHcUr81UnEJ",
        "colab_type": "code",
        "colab": {}
      },
      "source": [
        "X = []\n",
        "Y = []\n",
        "\n",
        "dir_ = '/content/drive/My Drive/mask_rcnn_segmentation/keras-mask-rcnn/'\n",
        "\n",
        "for im_name in os.listdir(dir_+'dataset_1/LAGdataset_200/'):\n",
        "  if os.path.isfile(dir_+'masks_1/'+im_name+'_mask.png'):\n",
        "    img  = cv2.imread(dir_+'dataset_1/LAGdataset_200/'+im_name)\n",
        "    img = cv2.resize(img,(128,128))\n",
        "    X.append(img)\n",
        "    mask = cv2.imread(dir_+'masks_1/'+im_name+'_mask.png',0)\n",
        "    #print(mask.shape)\n",
        "    Y.append(mask)\n",
        "    #break\n",
        "    #print(im_name)\n",
        "\n"
      ],
      "execution_count": 0,
      "outputs": []
    },
    {
      "cell_type": "code",
      "metadata": {
        "id": "REeN0iztU3zx",
        "colab_type": "code",
        "outputId": "61a470a9-8e35-4a66-c296-cf4fe1e70ea6",
        "colab": {
          "base_uri": "https://localhost:8080/",
          "height": 68
        }
      },
      "source": [
        "X = np.array(X)\n",
        "print(X.shape)\n",
        "X = np.reshape(X,(X.shape[0],X.shape[1],X.shape[2],X.shape[3]))\n",
        "Y = np.array(Y)\n",
        "print(Y.shape)\n",
        "Y = np.reshape(Y,(Y.shape[0],Y.shape[1],Y.shape[2],1))\n",
        "print(X.shape, Y.shape)"
      ],
      "execution_count": 34,
      "outputs": [
        {
          "output_type": "stream",
          "text": [
            "(996, 128, 128, 3)\n",
            "(996, 128, 128, 1)\n",
            "(996, 128, 128, 3) (996, 128, 128, 1)\n"
          ],
          "name": "stdout"
        }
      ]
    },
    {
      "cell_type": "markdown",
      "metadata": {
        "id": "7vjzEq7vY4qo",
        "colab_type": "text"
      },
      "source": [
        "# Normalize Input and Output.\n"
      ]
    },
    {
      "cell_type": "code",
      "metadata": {
        "id": "n9WqG_DYU4nM",
        "colab_type": "code",
        "colab": {}
      },
      "source": [
        "X = X/255.0\n",
        "Y =Y/255.0\n"
      ],
      "execution_count": 0,
      "outputs": []
    },
    {
      "cell_type": "code",
      "metadata": {
        "id": "-5tw1Zdd426N",
        "colab_type": "code",
        "colab": {}
      },
      "source": [
        "def down_block(x, filters, kernel_size=(3, 3), padding=\"same\", strides=1):\n",
        "    c = keras.layers.Conv2D(filters, kernel_size, padding=padding, strides=strides, activation=\"relu\")(x)\n",
        "    c = keras.layers.Conv2D(filters, kernel_size, padding=padding, strides=strides, activation=\"relu\")(c)\n",
        "    p = keras.layers.MaxPool2D((2, 2), (2, 2))(c)\n",
        "    return c, p\n",
        "\n",
        "def up_block(x, skip, filters, kernel_size=(3, 3), padding=\"same\", strides=1):\n",
        "    us = keras.layers.UpSampling2D((2, 2))(x)\n",
        "    concat = keras.layers.Concatenate()([us, skip])\n",
        "    c = keras.layers.Conv2D(filters, kernel_size, padding=padding, strides=strides, activation=\"relu\")(concat)\n",
        "    c = keras.layers.Conv2D(filters, kernel_size, padding=padding, strides=strides, activation=\"relu\")(c)\n",
        "    return c\n",
        "\n",
        "def bottleneck(x, filters, kernel_size=(3, 3), padding=\"same\", strides=1):\n",
        "    c = keras.layers.Conv2D(filters, kernel_size, padding=padding, strides=strides, activation=\"relu\")(x)\n",
        "    c = keras.layers.Conv2D(filters, kernel_size, padding=padding, strides=strides, activation=\"relu\")(c)\n",
        "    return c"
      ],
      "execution_count": 0,
      "outputs": []
    },
    {
      "cell_type": "markdown",
      "metadata": {
        "id": "n4UBVUsNZX2a",
        "colab_type": "text"
      },
      "source": [
        "# Define Unet Model architecture"
      ]
    },
    {
      "cell_type": "code",
      "metadata": {
        "id": "z4d5Ed_I49iw",
        "colab_type": "code",
        "colab": {}
      },
      "source": [
        "def UNet():\n",
        "    f = [64, 128, 256, 512, 1024]\n",
        "    inputs = keras.layers.Input((128, 128, 3))\n",
        "    \n",
        "    p0 = inputs\n",
        "    c1, p1 = down_block(p0, f[0]) #128 -> 64\n",
        "    c2, p2 = down_block(p1, f[1]) #64 -> 32\n",
        "    c3, p3 = down_block(p2, f[2]) #32 -> 16\n",
        "    c4, p4 = down_block(p3, f[3]) #16->8\n",
        "    \n",
        "    bn = bottleneck(p4, f[4])\n",
        "    \n",
        "    u1 = up_block(bn, c4, f[3]) #8 -> 16\n",
        "    u2 = up_block(u1, c3, f[2]) #16 -> 32\n",
        "    u3 = up_block(u2, c2, f[1]) #32 -> 64\n",
        "    u4 = up_block(u3, c1, f[0]) #64 -> 128\n",
        "    \n",
        "    outputs = keras.layers.Conv2D(1, (1, 1), padding=\"same\", activation=\"sigmoid\")(u4)\n",
        "    model = keras.models.Model(inputs, outputs)\n",
        "    return model"
      ],
      "execution_count": 0,
      "outputs": []
    },
    {
      "cell_type": "code",
      "metadata": {
        "id": "44Mhyym55BJQ",
        "colab_type": "code",
        "outputId": "b60efca8-77f1-4713-847a-95e615e082e6",
        "colab": {
          "base_uri": "https://localhost:8080/",
          "height": 1000
        }
      },
      "source": [
        "model = UNet()\n",
        "model.compile(optimizer=\"adam\", loss=\"binary_crossentropy\", metrics=[\"acc\"])\n",
        "model.summary()"
      ],
      "execution_count": 83,
      "outputs": [
        {
          "output_type": "stream",
          "text": [
            "Model: \"model_9\"\n",
            "__________________________________________________________________________________________________\n",
            "Layer (type)                    Output Shape         Param #     Connected to                     \n",
            "==================================================================================================\n",
            "input_10 (InputLayer)           (None, 128, 128, 3)  0                                            \n",
            "__________________________________________________________________________________________________\n",
            "conv2d_157 (Conv2D)             (None, 128, 128, 64) 1792        input_10[0][0]                   \n",
            "__________________________________________________________________________________________________\n",
            "conv2d_158 (Conv2D)             (None, 128, 128, 64) 36928       conv2d_157[0][0]                 \n",
            "__________________________________________________________________________________________________\n",
            "max_pooling2d_35 (MaxPooling2D) (None, 64, 64, 64)   0           conv2d_158[0][0]                 \n",
            "__________________________________________________________________________________________________\n",
            "conv2d_159 (Conv2D)             (None, 64, 64, 128)  73856       max_pooling2d_35[0][0]           \n",
            "__________________________________________________________________________________________________\n",
            "conv2d_160 (Conv2D)             (None, 64, 64, 128)  147584      conv2d_159[0][0]                 \n",
            "__________________________________________________________________________________________________\n",
            "max_pooling2d_36 (MaxPooling2D) (None, 32, 32, 128)  0           conv2d_160[0][0]                 \n",
            "__________________________________________________________________________________________________\n",
            "conv2d_161 (Conv2D)             (None, 32, 32, 256)  295168      max_pooling2d_36[0][0]           \n",
            "__________________________________________________________________________________________________\n",
            "conv2d_162 (Conv2D)             (None, 32, 32, 256)  590080      conv2d_161[0][0]                 \n",
            "__________________________________________________________________________________________________\n",
            "max_pooling2d_37 (MaxPooling2D) (None, 16, 16, 256)  0           conv2d_162[0][0]                 \n",
            "__________________________________________________________________________________________________\n",
            "conv2d_163 (Conv2D)             (None, 16, 16, 512)  1180160     max_pooling2d_37[0][0]           \n",
            "__________________________________________________________________________________________________\n",
            "conv2d_164 (Conv2D)             (None, 16, 16, 512)  2359808     conv2d_163[0][0]                 \n",
            "__________________________________________________________________________________________________\n",
            "max_pooling2d_38 (MaxPooling2D) (None, 8, 8, 512)    0           conv2d_164[0][0]                 \n",
            "__________________________________________________________________________________________________\n",
            "conv2d_165 (Conv2D)             (None, 8, 8, 1024)   4719616     max_pooling2d_38[0][0]           \n",
            "__________________________________________________________________________________________________\n",
            "conv2d_166 (Conv2D)             (None, 8, 8, 1024)   9438208     conv2d_165[0][0]                 \n",
            "__________________________________________________________________________________________________\n",
            "up_sampling2d_33 (UpSampling2D) (None, 16, 16, 1024) 0           conv2d_166[0][0]                 \n",
            "__________________________________________________________________________________________________\n",
            "concatenate_33 (Concatenate)    (None, 16, 16, 1536) 0           up_sampling2d_33[0][0]           \n",
            "                                                                 conv2d_164[0][0]                 \n",
            "__________________________________________________________________________________________________\n",
            "conv2d_167 (Conv2D)             (None, 16, 16, 512)  7078400     concatenate_33[0][0]             \n",
            "__________________________________________________________________________________________________\n",
            "conv2d_168 (Conv2D)             (None, 16, 16, 512)  2359808     conv2d_167[0][0]                 \n",
            "__________________________________________________________________________________________________\n",
            "up_sampling2d_34 (UpSampling2D) (None, 32, 32, 512)  0           conv2d_168[0][0]                 \n",
            "__________________________________________________________________________________________________\n",
            "concatenate_34 (Concatenate)    (None, 32, 32, 768)  0           up_sampling2d_34[0][0]           \n",
            "                                                                 conv2d_162[0][0]                 \n",
            "__________________________________________________________________________________________________\n",
            "conv2d_169 (Conv2D)             (None, 32, 32, 256)  1769728     concatenate_34[0][0]             \n",
            "__________________________________________________________________________________________________\n",
            "conv2d_170 (Conv2D)             (None, 32, 32, 256)  590080      conv2d_169[0][0]                 \n",
            "__________________________________________________________________________________________________\n",
            "up_sampling2d_35 (UpSampling2D) (None, 64, 64, 256)  0           conv2d_170[0][0]                 \n",
            "__________________________________________________________________________________________________\n",
            "concatenate_35 (Concatenate)    (None, 64, 64, 384)  0           up_sampling2d_35[0][0]           \n",
            "                                                                 conv2d_160[0][0]                 \n",
            "__________________________________________________________________________________________________\n",
            "conv2d_171 (Conv2D)             (None, 64, 64, 128)  442496      concatenate_35[0][0]             \n",
            "__________________________________________________________________________________________________\n",
            "conv2d_172 (Conv2D)             (None, 64, 64, 128)  147584      conv2d_171[0][0]                 \n",
            "__________________________________________________________________________________________________\n",
            "up_sampling2d_36 (UpSampling2D) (None, 128, 128, 128 0           conv2d_172[0][0]                 \n",
            "__________________________________________________________________________________________________\n",
            "concatenate_36 (Concatenate)    (None, 128, 128, 192 0           up_sampling2d_36[0][0]           \n",
            "                                                                 conv2d_158[0][0]                 \n",
            "__________________________________________________________________________________________________\n",
            "conv2d_173 (Conv2D)             (None, 128, 128, 64) 110656      concatenate_36[0][0]             \n",
            "__________________________________________________________________________________________________\n",
            "conv2d_174 (Conv2D)             (None, 128, 128, 64) 36928       conv2d_173[0][0]                 \n",
            "__________________________________________________________________________________________________\n",
            "conv2d_175 (Conv2D)             (None, 128, 128, 1)  65          conv2d_174[0][0]                 \n",
            "==================================================================================================\n",
            "Total params: 31,378,945\n",
            "Trainable params: 31,378,945\n",
            "Non-trainable params: 0\n",
            "__________________________________________________________________________________________________\n"
          ],
          "name": "stdout"
        }
      ]
    },
    {
      "cell_type": "markdown",
      "metadata": {
        "id": "T9kxqUvUZmBL",
        "colab_type": "text"
      },
      "source": [
        "# Train the model"
      ]
    },
    {
      "cell_type": "code",
      "metadata": {
        "id": "bQmdel0vU9s3",
        "colab_type": "code",
        "colab": {}
      },
      "source": [
        "\n",
        "model.fit(x=X, y= Y, batch_size=32, shuffle = True, validation_split =0.1,epochs=40)"
      ],
      "execution_count": 0,
      "outputs": []
    },
    {
      "cell_type": "markdown",
      "metadata": {
        "id": "dkxsp2f3ZqiW",
        "colab_type": "text"
      },
      "source": [
        "# Save the model"
      ]
    },
    {
      "cell_type": "code",
      "metadata": {
        "id": "McU7WXSE7QbE",
        "colab_type": "code",
        "outputId": "da0cb68a-c7d0-456d-8731-61a05ee3fa43",
        "colab": {
          "base_uri": "https://localhost:8080/",
          "height": 34
        }
      },
      "source": [
        "\n",
        "model_json = model.to_json()\n",
        "with open(\"/content/drive/My Drive/mask_rcnn_segmentation/model_40.json\", \"w\") as json_file:\n",
        "    json_file.write(model_json)\n",
        "\n",
        "model.save_weights(\"/content/drive/My Drive/mask_rcnn_segmentation/model_40.h5\")\n",
        "print(\"Saved model to disk\")"
      ],
      "execution_count": 49,
      "outputs": [
        {
          "output_type": "stream",
          "text": [
            "Saved model to disk\n"
          ],
          "name": "stdout"
        }
      ]
    },
    {
      "cell_type": "code",
      "metadata": {
        "id": "38Kcnz9w-cTL",
        "colab_type": "code",
        "outputId": "bab65643-dfdd-410e-b886-e09942620797",
        "colab": {
          "base_uri": "https://localhost:8080/",
          "height": 34
        }
      },
      "source": [
        "from keras.models import Model,model_from_json\n",
        "json_file = open('/content/drive/My Drive/mask_rcnn_segmentation/unet.json', 'r')\n",
        "loaded_model_json = json_file.read()\n",
        "json_file.close()\n",
        "loaded_model = model_from_json(loaded_model_json)\n",
        "# load weights into new model\n",
        "loaded_model.load_weights(\"/content/drive/My Drive/mask_rcnn_segmentation/unet.h5\")\n",
        "print(\"Loaded model from disk\")"
      ],
      "execution_count": 70,
      "outputs": [
        {
          "output_type": "stream",
          "text": [
            "Loaded model from disk\n"
          ],
          "name": "stdout"
        }
      ]
    },
    {
      "cell_type": "markdown",
      "metadata": {
        "id": "qHDsq9_xZxjQ",
        "colab_type": "text"
      },
      "source": [
        "# Save the masks"
      ]
    },
    {
      "cell_type": "code",
      "metadata": {
        "id": "JxHkjleNNXok",
        "colab_type": "code",
        "colab": {
          "base_uri": "https://localhost:8080/",
          "height": 357
        },
        "outputId": "f148ce51-d02e-41e1-f969-adb0d79e6bd2"
      },
      "source": [
        "img_dir = '/content/drive/My Drive/mask_rcnn_segmentation/keras-mask-rcnn/images/'\n",
        "for i in os.listdir(img_dir):\n",
        "  print(i)\n",
        "  image = cv2.imread(img_dir+i)\n",
        "  image = cv2.resize(image,(128,128))\n",
        "  image = np.reshape(image,(1,128,128,3))\n",
        "  mask = loaded_model.predict(image)\n",
        "  mask = np.reshape(mask,(128,128))\n",
        "  mask = mask.astype('uint8')\n",
        "  image = np.reshape(image,(128,128,3))\n",
        "  seg_image = np.zeros(shape =image.shape)\n",
        "  seg_image[:,:,0] = np.multiply(image[:,:,0], mask)\n",
        "  seg_image[:,:,1] = np.multiply(image[:,:,1], mask)\n",
        "  seg_image[:,:,2] = np.multiply(image[:,:,2], mask)\n",
        "  mask[mask==1] = 255\n",
        "\n",
        "  cv2.imwrite('/content/drive/My Drive/mask_rcnn_segmentation/keras-mask-rcnn/results_unet/'+str(i)+'_mask.png', mask)\n",
        "\n",
        "  cv2.imwrite('/content/drive/My Drive/mask_rcnn_segmentation/keras-mask-rcnn/results_unet/'+str(i)+'_seg.png', seg_image)"
      ],
      "execution_count": 73,
      "outputs": [
        {
          "output_type": "stream",
          "text": [
            "5.jpg\n",
            "(128, 128)\n",
            "9.jpg\n",
            "(128, 128)\n",
            "2.jpg\n",
            "(128, 128)\n",
            "3.jpg\n",
            "(128, 128)\n",
            "10.jpg\n",
            "(128, 128)\n",
            "8.jpg\n",
            "(128, 128)\n",
            "4.jpg\n",
            "(128, 128)\n",
            "1.jpg\n",
            "(128, 128)\n",
            "6.jpg\n",
            "(128, 128)\n",
            "7.jpg\n",
            "(128, 128)\n"
          ],
          "name": "stdout"
        }
      ]
    }
  ]
}